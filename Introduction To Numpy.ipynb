{
 "cells": [
  {
   "cell_type": "code",
   "execution_count": 2,
   "id": "d61e5f4d",
   "metadata": {},
   "outputs": [],
   "source": [
    "#Numpy is an acronym for numerical python. We need to install and import numpy before using\n"
   ]
  },
  {
   "cell_type": "code",
   "execution_count": 3,
   "id": "ae897e8f",
   "metadata": {},
   "outputs": [
    {
     "name": "stdout",
     "output_type": "stream",
     "text": [
      "Requirement already satisfied: numpy in c:\\users\\hp\\anaconda3\\lib\\site-packages (1.24.3)\n",
      "Note: you may need to restart the kernel to use updated packages.\n"
     ]
    }
   ],
   "source": [
    "pip install numpy"
   ]
  },
  {
   "cell_type": "code",
   "execution_count": 1,
   "id": "aea40d09",
   "metadata": {},
   "outputs": [],
   "source": [
    "import numpy as np   #tells the computer you want to use numpy which we can shorten to np for ease of coding"
   ]
  },
  {
   "cell_type": "markdown",
   "id": "4ac2007e",
   "metadata": {},
   "source": [
    "# ARRAYS"
   ]
  },
  {
   "cell_type": "code",
   "execution_count": null,
   "id": "c08068c7",
   "metadata": {},
   "outputs": [],
   "source": [
    "#Arrays are lists, collections of informations. \n",
    "#The list data structure has close similarities with numpy hence most arrays will be created using a list data structure"
   ]
  },
  {
   "cell_type": "markdown",
   "id": "2f515bf6",
   "metadata": {},
   "source": [
    "                            #Creating our first array"
   ]
  },
  {
   "cell_type": "code",
   "execution_count": null,
   "id": "f44a87bf",
   "metadata": {},
   "outputs": [],
   "source": [
    "#We can create an array by first creating a list and then converting it to an array"
   ]
  },
  {
   "cell_type": "code",
   "execution_count": 5,
   "id": "6396ec01",
   "metadata": {},
   "outputs": [],
   "source": [
    "#We create a list named d\n",
    "d = [1,3,5,2,8,23]"
   ]
  },
  {
   "cell_type": "code",
   "execution_count": 6,
   "id": "a5dbb4b3",
   "metadata": {},
   "outputs": [
    {
     "data": {
      "text/plain": [
       "list"
      ]
     },
     "execution_count": 6,
     "metadata": {},
     "output_type": "execute_result"
    }
   ],
   "source": [
    "type(d)"
   ]
  },
  {
   "cell_type": "code",
   "execution_count": 7,
   "id": "088fab3b",
   "metadata": {},
   "outputs": [
    {
     "data": {
      "text/plain": [
       "array([ 1,  3,  5,  2,  8, 23])"
      ]
     },
     "execution_count": 7,
     "metadata": {},
     "output_type": "execute_result"
    }
   ],
   "source": [
    "#To convert this list to an array,\n",
    "np.array(d)"
   ]
  },
  {
   "cell_type": "code",
   "execution_count": 8,
   "id": "53d48329",
   "metadata": {},
   "outputs": [],
   "source": [
    "#To confirm that the list has been converted to an array, we can assign the array to a variable s and check the type\n",
    "s=np.array(d)"
   ]
  },
  {
   "cell_type": "code",
   "execution_count": 9,
   "id": "526e1079",
   "metadata": {},
   "outputs": [
    {
     "data": {
      "text/plain": [
       "numpy.ndarray"
      ]
     },
     "execution_count": 9,
     "metadata": {},
     "output_type": "execute_result"
    }
   ],
   "source": [
    "type(s)"
   ]
  },
  {
   "cell_type": "code",
   "execution_count": 27,
   "id": "6408eb2f",
   "metadata": {},
   "outputs": [
    {
     "data": {
      "text/plain": [
       "dtype('int32')"
      ]
     },
     "execution_count": 27,
     "metadata": {},
     "output_type": "execute_result"
    }
   ],
   "source": [
    "#The above response means that s is a numpy n-dimensional array, meaning you can create multidimensional arrays with numpy.\n",
    "#To verify the datatype of the above array as an integer, the syntax is arrayname.dtype\n",
    "s.dtype"
   ]
  },
  {
   "cell_type": "code",
   "execution_count": 13,
   "id": "dd259da5",
   "metadata": {},
   "outputs": [
    {
     "data": {
      "text/plain": [
       "1"
      ]
     },
     "execution_count": 13,
     "metadata": {},
     "output_type": "execute_result"
    }
   ],
   "source": [
    "#We can investigate the structure and form of our arrays by\n",
    "s.ndim     #This is asking what is the dimension of our array,in this case, our array is one-dimensional"
   ]
  },
  {
   "cell_type": "code",
   "execution_count": 15,
   "id": "140b936c",
   "metadata": {},
   "outputs": [
    {
     "data": {
      "text/plain": [
       "(6,)"
      ]
     },
     "execution_count": 15,
     "metadata": {},
     "output_type": "execute_result"
    }
   ],
   "source": [
    "#To investigate the shape of our array,shape returns the total no of rows and columns ie (row,column)\n",
    "#In this case we have 6 rows and 1 column\n",
    "s.shape  #the 6 means that there are 6 items inside the s array"
   ]
  },
  {
   "cell_type": "code",
   "execution_count": 16,
   "id": "8076b6f9",
   "metadata": {},
   "outputs": [
    {
     "data": {
      "text/plain": [
       "6"
      ]
     },
     "execution_count": 16,
     "metadata": {},
     "output_type": "execute_result"
    }
   ],
   "source": [
    "#To investigate the size of the array,this will return the product of the no of rows and no of columns ie x and y dimensions\n",
    "#In this case, the size of array s will be 6 * 1= 6\n",
    "s.size"
   ]
  },
  {
   "cell_type": "markdown",
   "id": "83ab505c",
   "metadata": {},
   "source": [
    "                                     #Creating Multidimensional Arrays"
   ]
  },
  {
   "cell_type": "code",
   "execution_count": 17,
   "id": "28d48a11",
   "metadata": {},
   "outputs": [],
   "source": [
    "#We create a list of list. \n",
    "c=[[2,3,4,5,1,2,3],[5,4,5,6,7,4,3],[5,3,5,7,3,9,4]]"
   ]
  },
  {
   "cell_type": "code",
   "execution_count": 18,
   "id": "924ed094",
   "metadata": {},
   "outputs": [
    {
     "data": {
      "text/plain": [
       "[[2, 3, 4, 5, 1, 2, 3], [5, 4, 5, 6, 7, 4, 3], [5, 3, 5, 7, 3, 9, 4]]"
      ]
     },
     "execution_count": 18,
     "metadata": {},
     "output_type": "execute_result"
    }
   ],
   "source": [
    "c"
   ]
  },
  {
   "cell_type": "code",
   "execution_count": 20,
   "id": "4d960623",
   "metadata": {},
   "outputs": [
    {
     "data": {
      "text/plain": [
       "array([[2, 3, 4, 5, 1, 2, 3],\n",
       "       [5, 4, 5, 6, 7, 4, 3],\n",
       "       [5, 3, 5, 7, 3, 9, 4]])"
      ]
     },
     "execution_count": 20,
     "metadata": {},
     "output_type": "execute_result"
    }
   ],
   "source": [
    "#convert c from a python list to a numpy array\n",
    "np.array(c)     #This will give us a stack of arrays"
   ]
  },
  {
   "cell_type": "code",
   "execution_count": 21,
   "id": "5544b557",
   "metadata": {},
   "outputs": [],
   "source": [
    "#To be able to create a numpy multidimensional array, each array must contain THE SAME number of items\n",
    "#Assign this array to a new variable u\n",
    "u=np.array(c)"
   ]
  },
  {
   "cell_type": "code",
   "execution_count": 22,
   "id": "ebaa9566",
   "metadata": {},
   "outputs": [
    {
     "data": {
      "text/plain": [
       "array([[2, 3, 4, 5, 1, 2, 3],\n",
       "       [5, 4, 5, 6, 7, 4, 3],\n",
       "       [5, 3, 5, 7, 3, 9, 4]])"
      ]
     },
     "execution_count": 22,
     "metadata": {},
     "output_type": "execute_result"
    }
   ],
   "source": [
    "u"
   ]
  },
  {
   "cell_type": "code",
   "execution_count": 23,
   "id": "d07c32a0",
   "metadata": {},
   "outputs": [
    {
     "data": {
      "text/plain": [
       "2"
      ]
     },
     "execution_count": 23,
     "metadata": {},
     "output_type": "execute_result"
    }
   ],
   "source": [
    "u.ndim   #the u array has 2 dimensions:the x and y components"
   ]
  },
  {
   "cell_type": "code",
   "execution_count": 24,
   "id": "eafa1fc6",
   "metadata": {},
   "outputs": [
    {
     "data": {
      "text/plain": [
       "(3, 7)"
      ]
     },
     "execution_count": 24,
     "metadata": {},
     "output_type": "execute_result"
    }
   ],
   "source": [
    "u.shape  #the u array has 3 rows and 7 columns. The row information usually comes before the column info ie(row,column)"
   ]
  },
  {
   "cell_type": "code",
   "execution_count": 25,
   "id": "430f68f3",
   "metadata": {},
   "outputs": [
    {
     "data": {
      "text/plain": [
       "21"
      ]
     },
     "execution_count": 25,
     "metadata": {},
     "output_type": "execute_result"
    }
   ],
   "source": [
    "u.size"
   ]
  },
  {
   "cell_type": "code",
   "execution_count": 26,
   "id": "3e7c7e4f",
   "metadata": {},
   "outputs": [
    {
     "data": {
      "text/plain": [
       "dtype('int32')"
      ]
     },
     "execution_count": 26,
     "metadata": {},
     "output_type": "execute_result"
    }
   ],
   "source": [
    "#When creating an array, if you don't specify a datatype, numpy automatically tries to assign a datatype of choice to the array.\n",
    "u.dtype"
   ]
  },
  {
   "cell_type": "code",
   "execution_count": 28,
   "id": "3b1376ce",
   "metadata": {},
   "outputs": [],
   "source": [
    "#To change the datatype of the above array u, call the array u=np.array(c) and assign it a data type"
   ]
  },
  {
   "cell_type": "code",
   "execution_count": 29,
   "id": "dc025dd5",
   "metadata": {},
   "outputs": [],
   "source": [
    "u=np.array(c, dtype=np.int16)"
   ]
  },
  {
   "cell_type": "code",
   "execution_count": 30,
   "id": "e5362f2f",
   "metadata": {},
   "outputs": [
    {
     "data": {
      "text/plain": [
       "array([[2, 3, 4, 5, 1, 2, 3],\n",
       "       [5, 4, 5, 6, 7, 4, 3],\n",
       "       [5, 3, 5, 7, 3, 9, 4]], dtype=int16)"
      ]
     },
     "execution_count": 30,
     "metadata": {},
     "output_type": "execute_result"
    }
   ],
   "source": [
    "u"
   ]
  },
  {
   "cell_type": "markdown",
   "id": "b769d4a3",
   "metadata": {},
   "source": [
    "#                                      #Methods of Creating a Numpy array"
   ]
  },
  {
   "cell_type": "markdown",
   "id": "c77bd96f",
   "metadata": {},
   "source": [
    "Method 1 : NP.ARRAY([])"
   ]
  },
  {
   "cell_type": "code",
   "execution_count": 31,
   "id": "227fe979",
   "metadata": {},
   "outputs": [
    {
     "data": {
      "text/plain": [
       "array(['A', 'B', 'C'], dtype='<U1')"
      ]
     },
     "execution_count": 31,
     "metadata": {},
     "output_type": "execute_result"
    }
   ],
   "source": [
    "#Creating a new array\n",
    "#Datatype U1 means an object/strings\n",
    "np.array(['A','B','C'])"
   ]
  },
  {
   "cell_type": "code",
   "execution_count": 33,
   "id": "b78070b7",
   "metadata": {},
   "outputs": [
    {
     "data": {
      "text/plain": [
       "array(['A', 'B', 'C', '1', '4', '2'], dtype='<U11')"
      ]
     },
     "execution_count": 33,
     "metadata": {},
     "output_type": "execute_result"
    }
   ],
   "source": [
    "np.array(['A','B','C',1,4,2])\n",
    "#Numpy has automatically subjected the items to all become string because numpy works with a single datatype.\n",
    "#Numpy does not work with variable data types"
   ]
  },
  {
   "cell_type": "code",
   "execution_count": 34,
   "id": "0916306c",
   "metadata": {},
   "outputs": [
    {
     "data": {
      "text/plain": [
       "array(['A', '1', 'B', '4', 'C', '2'], dtype='<U11')"
      ]
     },
     "execution_count": 34,
     "metadata": {},
     "output_type": "execute_result"
    }
   ],
   "source": [
    "np.array(['A',1,'B',4,'C',2])"
   ]
  },
  {
   "cell_type": "markdown",
   "id": "2040724f",
   "metadata": {},
   "source": [
    "Method 2:A-RANGE"
   ]
  },
  {
   "cell_type": "code",
   "execution_count": 35,
   "id": "1c279916",
   "metadata": {},
   "outputs": [],
   "source": [
    "#Numpy has some functions that make it easy to create an array instead of writing them from the beginning"
   ]
  },
  {
   "cell_type": "code",
   "execution_count": 43,
   "id": "52160d44",
   "metadata": {},
   "outputs": [],
   "source": [
    "#Function 1: The A Range: creates an identical array making use of a specific set of increments\n",
    "#the syntax for arange is np.srange(start,stop,steps)"
   ]
  },
  {
   "cell_type": "code",
   "execution_count": 38,
   "id": "3195f46c",
   "metadata": {},
   "outputs": [
    {
     "data": {
      "text/plain": [
       "array([0, 1, 2, 3, 4, 5, 6, 7, 8, 9])"
      ]
     },
     "execution_count": 38,
     "metadata": {},
     "output_type": "execute_result"
    }
   ],
   "source": [
    "np.arange(10) #arange creates 10 identical items starting from 0"
   ]
  },
  {
   "cell_type": "code",
   "execution_count": 39,
   "id": "e416a3ae",
   "metadata": {},
   "outputs": [
    {
     "data": {
      "text/plain": [
       "array([ 2,  3,  4,  5,  6,  7,  8,  9, 10, 11, 12, 13])"
      ]
     },
     "execution_count": 39,
     "metadata": {},
     "output_type": "execute_result"
    }
   ],
   "source": [
    "np.arange(2,14)                   #arange works similar to the range in for loop of python, starts from 2 and stops at 13"
   ]
  },
  {
   "cell_type": "code",
   "execution_count": 40,
   "id": "848fa024",
   "metadata": {},
   "outputs": [
    {
     "data": {
      "text/plain": [
       "array([ 2,  6, 10])"
      ]
     },
     "execution_count": 40,
     "metadata": {},
     "output_type": "execute_result"
    }
   ],
   "source": [
    "np.arange(2,14,4)                         #the 3rd argument gives the number of skips or increment."
   ]
  },
  {
   "cell_type": "code",
   "execution_count": 41,
   "id": "f8ed920f",
   "metadata": {},
   "outputs": [
    {
     "data": {
      "text/plain": [
       "array([ 2.,  5.,  8., 11.])"
      ]
     },
     "execution_count": 41,
     "metadata": {},
     "output_type": "execute_result"
    }
   ],
   "source": [
    "np.arange(2,14,3, dtype = float)       #using arange, you can convert the datatype to a float but NOT a string "
   ]
  },
  {
   "cell_type": "markdown",
   "id": "7a472a7c",
   "metadata": {},
   "source": [
    "Method 3:LINSPACE"
   ]
  },
  {
   "cell_type": "code",
   "execution_count": 51,
   "id": "95d5be43",
   "metadata": {},
   "outputs": [
    {
     "data": {
      "text/plain": [
       "array([ 2.        ,  2.36734694,  2.73469388,  3.10204082,  3.46938776,\n",
       "        3.83673469,  4.20408163,  4.57142857,  4.93877551,  5.30612245,\n",
       "        5.67346939,  6.04081633,  6.40816327,  6.7755102 ,  7.14285714,\n",
       "        7.51020408,  7.87755102,  8.24489796,  8.6122449 ,  8.97959184,\n",
       "        9.34693878,  9.71428571, 10.08163265, 10.44897959, 10.81632653,\n",
       "       11.18367347, 11.55102041, 11.91836735, 12.28571429, 12.65306122,\n",
       "       13.02040816, 13.3877551 , 13.75510204, 14.12244898, 14.48979592,\n",
       "       14.85714286, 15.2244898 , 15.59183673, 15.95918367, 16.32653061,\n",
       "       16.69387755, 17.06122449, 17.42857143, 17.79591837, 18.16326531,\n",
       "       18.53061224, 18.89795918, 19.26530612, 19.63265306, 20.        ])"
      ]
     },
     "execution_count": 51,
     "metadata": {},
     "output_type": "execute_result"
    }
   ],
   "source": [
    "#Linspace creates specific numbers of elements that are equally spaced\n",
    "#lIN stands for linearly separable. the syntax is np.linspace(start,stop,no of items)\n",
    "#By default, the linspace takes in 50 items. To change the number of items, you will have to pass the third argument\n",
    "#Linspace usually returns the answer in float but can be converted to integer\n",
    "np.linspace(2,20)"
   ]
  },
  {
   "cell_type": "code",
   "execution_count": 45,
   "id": "3e8b4b11",
   "metadata": {},
   "outputs": [
    {
     "data": {
      "text/plain": [
       "array([ 2. ,  6.5, 11. , 15.5, 20. ])"
      ]
     },
     "execution_count": 45,
     "metadata": {},
     "output_type": "execute_result"
    }
   ],
   "source": [
    "np.linspace(2,20,5)      #The third argument means to return 5 items that are evenly spaced"
   ]
  },
  {
   "cell_type": "code",
   "execution_count": 46,
   "id": "07b0ade5",
   "metadata": {},
   "outputs": [],
   "source": [
    "#The items above are equally/evenly spaced with a difference of 4.5"
   ]
  },
  {
   "cell_type": "code",
   "execution_count": 48,
   "id": "0e13c1a4",
   "metadata": {},
   "outputs": [
    {
     "data": {
      "text/plain": [
       "array([2, 4, 6, 8], dtype=int16)"
      ]
     },
     "execution_count": 48,
     "metadata": {},
     "output_type": "execute_result"
    }
   ],
   "source": [
    "np.linspace(2,8,4, dtype=np.int16)     #this returns the answers in integers"
   ]
  },
  {
   "cell_type": "code",
   "execution_count": 50,
   "id": "8a6516c9",
   "metadata": {},
   "outputs": [
    {
     "data": {
      "text/plain": [
       "array([ 2.,  4.,  6.,  8., 10.])"
      ]
     },
     "execution_count": 50,
     "metadata": {},
     "output_type": "execute_result"
    }
   ],
   "source": [
    "np.linspace(2,10,5)"
   ]
  },
  {
   "cell_type": "markdown",
   "id": "00d2509a",
   "metadata": {},
   "source": [
    "Method 4:NUMPY.EYE()"
   ]
  },
  {
   "cell_type": "code",
   "execution_count": 53,
   "id": "9d671838",
   "metadata": {},
   "outputs": [
    {
     "data": {
      "text/plain": [
       "array([[1., 0., 0., 0.],\n",
       "       [0., 1., 0., 0.],\n",
       "       [0., 0., 1., 0.],\n",
       "       [0., 0., 0., 1.]])"
      ]
     },
     "execution_count": 53,
     "metadata": {},
     "output_type": "execute_result"
    }
   ],
   "source": [
    "#The NUMPY.EYE is another way of creating numpy arrays\n",
    "#np.eye() returns a 2-Dimensional array with ones on the diagonal and zeros elsewhere\n",
    "np.eye(4)   #returns 4 rows and 4 columns while ensuring that there is a diagonal across it."
   ]
  },
  {
   "cell_type": "code",
   "execution_count": 55,
   "id": "8795eeb7",
   "metadata": {},
   "outputs": [
    {
     "data": {
      "text/plain": [
       "array([[1., 0., 0., 0., 0.],\n",
       "       [0., 1., 0., 0., 0.],\n",
       "       [0., 0., 1., 0., 0.],\n",
       "       [0., 0., 0., 1., 0.]])"
      ]
     },
     "execution_count": 55,
     "metadata": {},
     "output_type": "execute_result"
    }
   ],
   "source": [
    "#np.eye can also take 2 arguments where it returns the number of rows and columns example\n",
    "np.eye(4,5)"
   ]
  },
  {
   "cell_type": "code",
   "execution_count": 56,
   "id": "41f4b85f",
   "metadata": {},
   "outputs": [
    {
     "data": {
      "text/plain": [
       "array([[1., 0., 0.],\n",
       "       [0., 1., 0.],\n",
       "       [0., 0., 1.],\n",
       "       [0., 0., 0.],\n",
       "       [0., 0., 0.]])"
      ]
     },
     "execution_count": 56,
     "metadata": {},
     "output_type": "execute_result"
    }
   ],
   "source": [
    "np.eye(5,3)"
   ]
  },
  {
   "cell_type": "markdown",
   "id": "f913ca3f",
   "metadata": {},
   "source": [
    "Method 5:NUMPY.DIAG()"
   ]
  },
  {
   "cell_type": "code",
   "execution_count": 59,
   "id": "e448d728",
   "metadata": {},
   "outputs": [
    {
     "data": {
      "text/plain": [
       "array([[2, 0, 0],\n",
       "       [0, 3, 0],\n",
       "       [0, 0, 4]])"
      ]
     },
     "execution_count": 59,
     "metadata": {},
     "output_type": "execute_result"
    }
   ],
   "source": [
    "#This numpy.diag works like the numpy.eye() but here you can specify the items you want inside the diagonal\n",
    "#It will return a square matrix whose size will be = to the number of items in the array\n",
    "np.diag([2,3,4])     #Here, it returns a 3 by 3 matrix with the array items in the diagonal."
   ]
  },
  {
   "cell_type": "code",
   "execution_count": 60,
   "id": "5f1b226a",
   "metadata": {},
   "outputs": [
    {
     "data": {
      "text/plain": [
       "array([[2, 0, 0, 0, 0],\n",
       "       [0, 2, 0, 0, 0],\n",
       "       [0, 0, 4, 0, 0],\n",
       "       [0, 0, 0, 6, 0],\n",
       "       [0, 0, 0, 0, 8]])"
      ]
     },
     "execution_count": 60,
     "metadata": {},
     "output_type": "execute_result"
    }
   ],
   "source": [
    "np.diag([2,2,4,6,8])      #Here, it returns a 5 by 5 matrix with the array items in the diagonal."
   ]
  },
  {
   "cell_type": "code",
   "execution_count": 62,
   "id": "d10b472e",
   "metadata": {},
   "outputs": [
    {
     "data": {
      "text/plain": [
       "array([[0, 0, 2, 0, 0, 0, 0],\n",
       "       [0, 0, 0, 3, 0, 0, 0],\n",
       "       [0, 0, 0, 0, 4, 0, 0],\n",
       "       [0, 0, 0, 0, 0, 5, 0],\n",
       "       [0, 0, 0, 0, 0, 0, 7],\n",
       "       [0, 0, 0, 0, 0, 0, 0],\n",
       "       [0, 0, 0, 0, 0, 0, 0]])"
      ]
     },
     "execution_count": 62,
     "metadata": {},
     "output_type": "execute_result"
    }
   ],
   "source": [
    "#You can also alternate the position of items in the array\n",
    "np.diag([2,3,4,5,7],2)\n",
    "#Here, the 2nd argument of 2 increases the array to a 7 by 7 matrix and shifts each array item by 2 i.e it skips 3 items"
   ]
  },
  {
   "cell_type": "code",
   "execution_count": 63,
   "id": "b7408355",
   "metadata": {},
   "outputs": [
    {
     "data": {
      "text/plain": [
       "array([[0, 0, 0, 0, 2, 0, 0, 0, 0],\n",
       "       [0, 0, 0, 0, 0, 3, 0, 0, 0],\n",
       "       [0, 0, 0, 0, 0, 0, 4, 0, 0],\n",
       "       [0, 0, 0, 0, 0, 0, 0, 5, 0],\n",
       "       [0, 0, 0, 0, 0, 0, 0, 0, 7],\n",
       "       [0, 0, 0, 0, 0, 0, 0, 0, 0],\n",
       "       [0, 0, 0, 0, 0, 0, 0, 0, 0],\n",
       "       [0, 0, 0, 0, 0, 0, 0, 0, 0],\n",
       "       [0, 0, 0, 0, 0, 0, 0, 0, 0]])"
      ]
     },
     "execution_count": 63,
     "metadata": {},
     "output_type": "execute_result"
    }
   ],
   "source": [
    "np.diag([2,3,4,5,7],4)"
   ]
  },
  {
   "cell_type": "markdown",
   "id": "e802bc53",
   "metadata": {},
   "source": [
    "Method 6: NUMPY.ZEROS()"
   ]
  },
  {
   "cell_type": "code",
   "execution_count": 1,
   "id": "268eac39",
   "metadata": {},
   "outputs": [],
   "source": [
    "#helps you to form identical number of items(zeros in this case)"
   ]
  },
  {
   "cell_type": "code",
   "execution_count": 3,
   "id": "ad9e22bb",
   "metadata": {},
   "outputs": [],
   "source": [
    "import numpy as np"
   ]
  },
  {
   "cell_type": "code",
   "execution_count": 4,
   "id": "f8ed2cfa",
   "metadata": {},
   "outputs": [
    {
     "data": {
      "text/plain": [
       "array([0., 0., 0., 0.])"
      ]
     },
     "execution_count": 4,
     "metadata": {},
     "output_type": "execute_result"
    }
   ],
   "source": [
    "np.zeros(4)   #This returns an indicated number of zeros. It only takes in one argument "
   ]
  },
  {
   "cell_type": "code",
   "execution_count": 5,
   "id": "a7276bbe",
   "metadata": {},
   "outputs": [
    {
     "ename": "TypeError",
     "evalue": "Cannot interpret '3' as a data type",
     "output_type": "error",
     "traceback": [
      "\u001b[1;31m---------------------------------------------------------------------------\u001b[0m",
      "\u001b[1;31mTypeError\u001b[0m                                 Traceback (most recent call last)",
      "Cell \u001b[1;32mIn[5], line 1\u001b[0m\n\u001b[1;32m----> 1\u001b[0m np\u001b[38;5;241m.\u001b[39mzeros(\u001b[38;5;241m4\u001b[39m,\u001b[38;5;241m3\u001b[39m)\n",
      "\u001b[1;31mTypeError\u001b[0m: Cannot interpret '3' as a data type"
     ]
    }
   ],
   "source": [
    "np.zeros(4,3)"
   ]
  },
  {
   "cell_type": "markdown",
   "id": "76fc8221",
   "metadata": {},
   "source": [
    "Method 7:NUMPY.ONES()"
   ]
  },
  {
   "cell_type": "code",
   "execution_count": 2,
   "id": "3a23dfe7",
   "metadata": {},
   "outputs": [],
   "source": [
    "#Returns ones into a specified number of places\n",
    "import numpy as np"
   ]
  },
  {
   "cell_type": "code",
   "execution_count": 3,
   "id": "ae1db5e2",
   "metadata": {},
   "outputs": [
    {
     "data": {
      "text/plain": [
       "array([1., 1., 1., 1., 1., 1.])"
      ]
     },
     "execution_count": 3,
     "metadata": {},
     "output_type": "execute_result"
    }
   ],
   "source": [
    "np.ones(6)"
   ]
  },
  {
   "cell_type": "markdown",
   "id": "d03b0b61",
   "metadata": {},
   "source": [
    "Method 8:NUMPY.FULL()"
   ]
  },
  {
   "cell_type": "code",
   "execution_count": 8,
   "id": "c159e181",
   "metadata": {},
   "outputs": [
    {
     "data": {
      "text/plain": [
       "array([8, 8, 8, 8, 8])"
      ]
     },
     "execution_count": 8,
     "metadata": {},
     "output_type": "execute_result"
    }
   ],
   "source": [
    "#It returns an item a number of times.\n",
    "#The first argument is the number of times you want an item returned while the second argument is the item you want to return.\n",
    "np.full(5,8)"
   ]
  },
  {
   "cell_type": "code",
   "execution_count": 9,
   "id": "c18d3855",
   "metadata": {},
   "outputs": [
    {
     "data": {
      "text/plain": [
       "array([2, 2, 2, 2, 2, 2, 2, 2, 2, 2])"
      ]
     },
     "execution_count": 9,
     "metadata": {},
     "output_type": "execute_result"
    }
   ],
   "source": [
    "np.full(10,2)"
   ]
  },
  {
   "cell_type": "markdown",
   "id": "8f83c90c",
   "metadata": {},
   "source": [
    "Method 9: NUMPY.RANDOM()"
   ]
  },
  {
   "cell_type": "code",
   "execution_count": 4,
   "id": "9a877110",
   "metadata": {},
   "outputs": [
    {
     "data": {
      "text/plain": [
       "array([0.79881568, 0.30210915, 0.84619938, 0.47370217])"
      ]
     },
     "execution_count": 4,
     "metadata": {},
     "output_type": "execute_result"
    }
   ],
   "source": [
    "np.random.rand(4)"
   ]
  },
  {
   "cell_type": "code",
   "execution_count": null,
   "id": "52d67ab5",
   "metadata": {},
   "outputs": [],
   "source": []
  }
 ],
 "metadata": {
  "kernelspec": {
   "display_name": "Python 3 (ipykernel)",
   "language": "python",
   "name": "python3"
  },
  "language_info": {
   "codemirror_mode": {
    "name": "ipython",
    "version": 3
   },
   "file_extension": ".py",
   "mimetype": "text/x-python",
   "name": "python",
   "nbconvert_exporter": "python",
   "pygments_lexer": "ipython3",
   "version": "3.11.5"
  }
 },
 "nbformat": 4,
 "nbformat_minor": 5
}
