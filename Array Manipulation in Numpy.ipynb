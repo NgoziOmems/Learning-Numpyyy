{
 "cells": [
  {
   "cell_type": "code",
   "execution_count": 3,
   "id": "18815737",
   "metadata": {},
   "outputs": [],
   "source": [
    "#Array Manipulation refers to transforming the shape and dimensions of an array\n",
    "import numpy as np"
   ]
  },
  {
   "cell_type": "markdown",
   "id": "4fe963ba",
   "metadata": {},
   "source": [
    "# ARRAY MANIPULATION METHODS"
   ]
  },
  {
   "cell_type": "markdown",
   "id": "52e6a264",
   "metadata": {},
   "source": [
    "Method 1: .RESHAPE()"
   ]
  },
  {
   "cell_type": "code",
   "execution_count": 5,
   "id": "a9d0bd01",
   "metadata": {},
   "outputs": [
    {
     "data": {
      "text/plain": [
       "array([2.        , 2.12244898, 2.24489796, 2.36734694, 2.48979592,\n",
       "       2.6122449 , 2.73469388, 2.85714286, 2.97959184, 3.10204082,\n",
       "       3.2244898 , 3.34693878, 3.46938776, 3.59183673, 3.71428571,\n",
       "       3.83673469, 3.95918367, 4.08163265, 4.20408163, 4.32653061,\n",
       "       4.44897959, 4.57142857, 4.69387755, 4.81632653, 4.93877551,\n",
       "       5.06122449, 5.18367347, 5.30612245, 5.42857143, 5.55102041,\n",
       "       5.67346939, 5.79591837, 5.91836735, 6.04081633, 6.16326531,\n",
       "       6.28571429, 6.40816327, 6.53061224, 6.65306122, 6.7755102 ,\n",
       "       6.89795918, 7.02040816, 7.14285714, 7.26530612, 7.3877551 ,\n",
       "       7.51020408, 7.63265306, 7.75510204, 7.87755102, 8.        ])"
      ]
     },
     "execution_count": 5,
     "metadata": {},
     "output_type": "execute_result"
    }
   ],
   "source": [
    "np.linspace(2,8, ) "
   ]
  },
  {
   "cell_type": "code",
   "execution_count": 6,
   "id": "a51bd3af",
   "metadata": {},
   "outputs": [
    {
     "data": {
      "text/plain": [
       "(50,)"
      ]
     },
     "execution_count": 6,
     "metadata": {},
     "output_type": "execute_result"
    }
   ],
   "source": [
    "np.linspace(2,8, ) .shape"
   ]
  },
  {
   "cell_type": "code",
   "execution_count": 7,
   "id": "f1e5a19b",
   "metadata": {},
   "outputs": [
    {
     "data": {
      "text/plain": [
       "array([[2.        , 2.12244898, 2.24489796, 2.36734694, 2.48979592,\n",
       "        2.6122449 , 2.73469388, 2.85714286, 2.97959184, 3.10204082,\n",
       "        3.2244898 , 3.34693878, 3.46938776, 3.59183673, 3.71428571,\n",
       "        3.83673469, 3.95918367, 4.08163265, 4.20408163, 4.32653061,\n",
       "        4.44897959, 4.57142857, 4.69387755, 4.81632653, 4.93877551],\n",
       "       [5.06122449, 5.18367347, 5.30612245, 5.42857143, 5.55102041,\n",
       "        5.67346939, 5.79591837, 5.91836735, 6.04081633, 6.16326531,\n",
       "        6.28571429, 6.40816327, 6.53061224, 6.65306122, 6.7755102 ,\n",
       "        6.89795918, 7.02040816, 7.14285714, 7.26530612, 7.3877551 ,\n",
       "        7.51020408, 7.63265306, 7.75510204, 7.87755102, 8.        ]])"
      ]
     },
     "execution_count": 7,
     "metadata": {},
     "output_type": "execute_result"
    }
   ],
   "source": [
    "#To change the shape ie to reshape the array, the reshape function will take 2 arguments:(rows,column)\n",
    "np.linspace(2,8).reshape(2,25)"
   ]
  },
  {
   "cell_type": "code",
   "execution_count": 8,
   "id": "7962f866",
   "metadata": {},
   "outputs": [
    {
     "data": {
      "text/plain": [
       "array([[2.        , 2.12244898, 2.24489796, 2.36734694, 2.48979592,\n",
       "        2.6122449 , 2.73469388, 2.85714286, 2.97959184, 3.10204082],\n",
       "       [3.2244898 , 3.34693878, 3.46938776, 3.59183673, 3.71428571,\n",
       "        3.83673469, 3.95918367, 4.08163265, 4.20408163, 4.32653061],\n",
       "       [4.44897959, 4.57142857, 4.69387755, 4.81632653, 4.93877551,\n",
       "        5.06122449, 5.18367347, 5.30612245, 5.42857143, 5.55102041],\n",
       "       [5.67346939, 5.79591837, 5.91836735, 6.04081633, 6.16326531,\n",
       "        6.28571429, 6.40816327, 6.53061224, 6.65306122, 6.7755102 ],\n",
       "       [6.89795918, 7.02040816, 7.14285714, 7.26530612, 7.3877551 ,\n",
       "        7.51020408, 7.63265306, 7.75510204, 7.87755102, 8.        ]])"
      ]
     },
     "execution_count": 8,
     "metadata": {},
     "output_type": "execute_result"
    }
   ],
   "source": [
    "#When reshaping an array, the dimensions of the new shape must be both factors that multiply to give the original shape\n",
    "#The product of the dimension of the new shape should give the original shape\n",
    "#example to reshape the above array of shape 50,you can reshape to (5,10),(2,25),(1,50),(10,5),(25,2)\n",
    "np.linspace(2,8).reshape(5,10)"
   ]
  },
  {
   "cell_type": "code",
   "execution_count": 9,
   "id": "fba55f91",
   "metadata": {},
   "outputs": [
    {
     "data": {
      "text/plain": [
       "array([[2.        , 2.12244898, 2.24489796, 2.36734694, 2.48979592],\n",
       "       [2.6122449 , 2.73469388, 2.85714286, 2.97959184, 3.10204082],\n",
       "       [3.2244898 , 3.34693878, 3.46938776, 3.59183673, 3.71428571],\n",
       "       [3.83673469, 3.95918367, 4.08163265, 4.20408163, 4.32653061],\n",
       "       [4.44897959, 4.57142857, 4.69387755, 4.81632653, 4.93877551],\n",
       "       [5.06122449, 5.18367347, 5.30612245, 5.42857143, 5.55102041],\n",
       "       [5.67346939, 5.79591837, 5.91836735, 6.04081633, 6.16326531],\n",
       "       [6.28571429, 6.40816327, 6.53061224, 6.65306122, 6.7755102 ],\n",
       "       [6.89795918, 7.02040816, 7.14285714, 7.26530612, 7.3877551 ],\n",
       "       [7.51020408, 7.63265306, 7.75510204, 7.87755102, 8.        ]])"
      ]
     },
     "execution_count": 9,
     "metadata": {},
     "output_type": "execute_result"
    }
   ],
   "source": [
    "np.linspace(2,8).reshape(10,5)"
   ]
  },
  {
   "cell_type": "code",
   "execution_count": 10,
   "id": "cb35c496",
   "metadata": {},
   "outputs": [
    {
     "ename": "ValueError",
     "evalue": "cannot reshape array of size 50 into shape (2,10)",
     "output_type": "error",
     "traceback": [
      "\u001b[1;31m---------------------------------------------------------------------------\u001b[0m",
      "\u001b[1;31mValueError\u001b[0m                                Traceback (most recent call last)",
      "Cell \u001b[1;32mIn[10], line 1\u001b[0m\n\u001b[1;32m----> 1\u001b[0m np\u001b[38;5;241m.\u001b[39mlinspace(\u001b[38;5;241m2\u001b[39m,\u001b[38;5;241m8\u001b[39m)\u001b[38;5;241m.\u001b[39mreshape(\u001b[38;5;241m2\u001b[39m,\u001b[38;5;241m10\u001b[39m)\n",
      "\u001b[1;31mValueError\u001b[0m: cannot reshape array of size 50 into shape (2,10)"
     ]
    }
   ],
   "source": [
    "np.linspace(2,8).reshape(2,10)"
   ]
  },
  {
   "cell_type": "code",
   "execution_count": 12,
   "id": "7c1b1124",
   "metadata": {},
   "outputs": [
    {
     "data": {
      "text/plain": [
       "array([ 1,  2,  3,  4,  5,  6,  7,  8,  9, 10, 11, 12, 13, 14, 15, 16, 17,\n",
       "       18, 19, 20, 21, 22, 23, 24, 25, 26, 27, 28, 29, 30, 31, 32, 33, 34,\n",
       "       35, 36])"
      ]
     },
     "execution_count": 12,
     "metadata": {},
     "output_type": "execute_result"
    }
   ],
   "source": [
    "#Using Arange\n",
    "np.arange(1,37)"
   ]
  },
  {
   "cell_type": "code",
   "execution_count": 13,
   "id": "0ab8713e",
   "metadata": {},
   "outputs": [
    {
     "data": {
      "text/plain": [
       "(36,)"
      ]
     },
     "execution_count": 13,
     "metadata": {},
     "output_type": "execute_result"
    }
   ],
   "source": [
    "np.arange(1,37) .shape"
   ]
  },
  {
   "cell_type": "code",
   "execution_count": 14,
   "id": "eff7e7d3",
   "metadata": {},
   "outputs": [
    {
     "data": {
      "text/plain": [
       "array([[ 1,  2,  3,  4,  5,  6,  7,  8,  9, 10, 11, 12],\n",
       "       [13, 14, 15, 16, 17, 18, 19, 20, 21, 22, 23, 24],\n",
       "       [25, 26, 27, 28, 29, 30, 31, 32, 33, 34, 35, 36]])"
      ]
     },
     "execution_count": 14,
     "metadata": {},
     "output_type": "execute_result"
    }
   ],
   "source": [
    "#The above arrage can be reshaped with \n",
    "np.arange(1,37) .reshape(3,12)"
   ]
  },
  {
   "cell_type": "code",
   "execution_count": 15,
   "id": "4398d06e",
   "metadata": {},
   "outputs": [
    {
     "data": {
      "text/plain": [
       "array([[ 1,  2,  3],\n",
       "       [ 4,  5,  6],\n",
       "       [ 7,  8,  9],\n",
       "       [10, 11, 12],\n",
       "       [13, 14, 15],\n",
       "       [16, 17, 18],\n",
       "       [19, 20, 21],\n",
       "       [22, 23, 24],\n",
       "       [25, 26, 27],\n",
       "       [28, 29, 30],\n",
       "       [31, 32, 33],\n",
       "       [34, 35, 36]])"
      ]
     },
     "execution_count": 15,
     "metadata": {},
     "output_type": "execute_result"
    }
   ],
   "source": [
    "np.arange(1,37) .reshape(12,3)"
   ]
  },
  {
   "cell_type": "code",
   "execution_count": 16,
   "id": "efce095d",
   "metadata": {},
   "outputs": [
    {
     "data": {
      "text/plain": [
       "array([[ 1,  2,  3,  4,  5,  6,  7,  8,  9],\n",
       "       [10, 11, 12, 13, 14, 15, 16, 17, 18],\n",
       "       [19, 20, 21, 22, 23, 24, 25, 26, 27],\n",
       "       [28, 29, 30, 31, 32, 33, 34, 35, 36]])"
      ]
     },
     "execution_count": 16,
     "metadata": {},
     "output_type": "execute_result"
    }
   ],
   "source": [
    "np.arange(1,37) .reshape(4,9)"
   ]
  },
  {
   "cell_type": "code",
   "execution_count": 17,
   "id": "36fbe453",
   "metadata": {},
   "outputs": [
    {
     "data": {
      "text/plain": [
       "array([[ 1,  2,  3,  4],\n",
       "       [ 5,  6,  7,  8],\n",
       "       [ 9, 10, 11, 12],\n",
       "       [13, 14, 15, 16],\n",
       "       [17, 18, 19, 20],\n",
       "       [21, 22, 23, 24],\n",
       "       [25, 26, 27, 28],\n",
       "       [29, 30, 31, 32],\n",
       "       [33, 34, 35, 36]])"
      ]
     },
     "execution_count": 17,
     "metadata": {},
     "output_type": "execute_result"
    }
   ],
   "source": [
    "np.arange(1,37) .reshape(9,4)"
   ]
  },
  {
   "cell_type": "code",
   "execution_count": 18,
   "id": "73c44303",
   "metadata": {},
   "outputs": [
    {
     "data": {
      "text/plain": [
       "array([[ 1,  2,  3,  4,  5,  6],\n",
       "       [ 7,  8,  9, 10, 11, 12],\n",
       "       [13, 14, 15, 16, 17, 18],\n",
       "       [19, 20, 21, 22, 23, 24],\n",
       "       [25, 26, 27, 28, 29, 30],\n",
       "       [31, 32, 33, 34, 35, 36]])"
      ]
     },
     "execution_count": 18,
     "metadata": {},
     "output_type": "execute_result"
    }
   ],
   "source": [
    "np.arange(1,37) .reshape(6,6)"
   ]
  },
  {
   "cell_type": "code",
   "execution_count": 19,
   "id": "c42dde74",
   "metadata": {},
   "outputs": [
    {
     "data": {
      "text/plain": [
       "array([[ 1,  2],\n",
       "       [ 3,  4],\n",
       "       [ 5,  6],\n",
       "       [ 7,  8],\n",
       "       [ 9, 10],\n",
       "       [11, 12],\n",
       "       [13, 14],\n",
       "       [15, 16],\n",
       "       [17, 18],\n",
       "       [19, 20],\n",
       "       [21, 22],\n",
       "       [23, 24],\n",
       "       [25, 26],\n",
       "       [27, 28],\n",
       "       [29, 30],\n",
       "       [31, 32],\n",
       "       [33, 34],\n",
       "       [35, 36]])"
      ]
     },
     "execution_count": 19,
     "metadata": {},
     "output_type": "execute_result"
    }
   ],
   "source": [
    "np.arange(1,37) .reshape(18,2)"
   ]
  },
  {
   "cell_type": "markdown",
   "id": "24f237da",
   "metadata": {},
   "source": [
    "METHOD 2: TRANSPOSE"
   ]
  },
  {
   "cell_type": "code",
   "execution_count": 20,
   "id": "e6d38617",
   "metadata": {},
   "outputs": [
    {
     "data": {
      "text/plain": [
       "array([[ 1,  7, 13, 19, 25, 31],\n",
       "       [ 2,  8, 14, 20, 26, 32],\n",
       "       [ 3,  9, 15, 21, 27, 33],\n",
       "       [ 4, 10, 16, 22, 28, 34],\n",
       "       [ 5, 11, 17, 23, 29, 35],\n",
       "       [ 6, 12, 18, 24, 30, 36]])"
      ]
     },
     "execution_count": 20,
     "metadata": {},
     "output_type": "execute_result"
    }
   ],
   "source": [
    "#In python, chaining is the process of taking the result of an array and applying another method or operation to it using .\n",
    "#The transpose method converts the rows to columns and vice versa\n",
    "np.transpose(np.arange(1,37) .reshape(6,6))"
   ]
  },
  {
   "cell_type": "code",
   "execution_count": 21,
   "id": "6b55c1c9",
   "metadata": {},
   "outputs": [
    {
     "data": {
      "text/plain": [
       "array([[ 1,  5,  9, 13, 17, 21, 25, 29, 33],\n",
       "       [ 2,  6, 10, 14, 18, 22, 26, 30, 34],\n",
       "       [ 3,  7, 11, 15, 19, 23, 27, 31, 35],\n",
       "       [ 4,  8, 12, 16, 20, 24, 28, 32, 36]])"
      ]
     },
     "execution_count": 21,
     "metadata": {},
     "output_type": "execute_result"
    }
   ],
   "source": [
    "np.transpose(np.arange(1,37) .reshape(9,4))\n",
    "#the transpose has converted the rows to columns and the columns to rows, we now have(4 rows,9 columns)"
   ]
  },
  {
   "cell_type": "markdown",
   "id": "82b6f57d",
   "metadata": {},
   "source": [
    "METHOD 3:STACKING"
   ]
  },
  {
   "cell_type": "code",
   "execution_count": 22,
   "id": "27cb6d4c",
   "metadata": {},
   "outputs": [],
   "source": [
    "#We have the horizontal(H-Stacking) and the Vertical(V-Stacking). \n",
    "#Stacking is a way of adding up arrays on top of themselves, example\n",
    "a=np.array([1,2,3])\n",
    "b=np.array([[9,6,8],[9,1,6]])"
   ]
  },
  {
   "cell_type": "code",
   "execution_count": 23,
   "id": "abf2cc6e",
   "metadata": {},
   "outputs": [
    {
     "data": {
      "text/plain": [
       "array([1, 2, 3])"
      ]
     },
     "execution_count": 23,
     "metadata": {},
     "output_type": "execute_result"
    }
   ],
   "source": [
    "a"
   ]
  },
  {
   "cell_type": "code",
   "execution_count": 35,
   "id": "8d127363",
   "metadata": {},
   "outputs": [
    {
     "data": {
      "text/plain": [
       "1"
      ]
     },
     "execution_count": 35,
     "metadata": {},
     "output_type": "execute_result"
    }
   ],
   "source": [
    "a.ndim"
   ]
  },
  {
   "cell_type": "code",
   "execution_count": 24,
   "id": "c0ff73ad",
   "metadata": {},
   "outputs": [
    {
     "data": {
      "text/plain": [
       "array([[9, 6, 8],\n",
       "       [9, 1, 6]])"
      ]
     },
     "execution_count": 24,
     "metadata": {},
     "output_type": "execute_result"
    }
   ],
   "source": [
    "b"
   ]
  },
  {
   "cell_type": "code",
   "execution_count": 36,
   "id": "92b8e63a",
   "metadata": {},
   "outputs": [
    {
     "data": {
      "text/plain": [
       "2"
      ]
     },
     "execution_count": 36,
     "metadata": {},
     "output_type": "execute_result"
    }
   ],
   "source": [
    "b.ndim"
   ]
  },
  {
   "cell_type": "code",
   "execution_count": 30,
   "id": "1370e17b",
   "metadata": {},
   "outputs": [
    {
     "ename": "ValueError",
     "evalue": "all the input arrays must have same number of dimensions, but the array at index 0 has 1 dimension(s) and the array at index 1 has 2 dimension(s)",
     "output_type": "error",
     "traceback": [
      "\u001b[1;31m---------------------------------------------------------------------------\u001b[0m",
      "\u001b[1;31mValueError\u001b[0m                                Traceback (most recent call last)",
      "Cell \u001b[1;32mIn[30], line 2\u001b[0m\n\u001b[0;32m      1\u001b[0m \u001b[38;5;66;03m#To stack a and b horizontally\u001b[39;00m\n\u001b[1;32m----> 2\u001b[0m np\u001b[38;5;241m.\u001b[39mhstack([a,b])\n",
      "File \u001b[1;32m<__array_function__ internals>:200\u001b[0m, in \u001b[0;36mhstack\u001b[1;34m(*args, **kwargs)\u001b[0m\n",
      "File \u001b[1;32m~\\anaconda3\\Lib\\site-packages\\numpy\\core\\shape_base.py:368\u001b[0m, in \u001b[0;36mhstack\u001b[1;34m(tup, dtype, casting)\u001b[0m\n\u001b[0;32m    366\u001b[0m \u001b[38;5;66;03m# As a special case, dimension 0 of 1-dimensional arrays is \"horizontal\"\u001b[39;00m\n\u001b[0;32m    367\u001b[0m \u001b[38;5;28;01mif\u001b[39;00m arrs \u001b[38;5;129;01mand\u001b[39;00m arrs[\u001b[38;5;241m0\u001b[39m]\u001b[38;5;241m.\u001b[39mndim \u001b[38;5;241m==\u001b[39m \u001b[38;5;241m1\u001b[39m:\n\u001b[1;32m--> 368\u001b[0m     \u001b[38;5;28;01mreturn\u001b[39;00m _nx\u001b[38;5;241m.\u001b[39mconcatenate(arrs, \u001b[38;5;241m0\u001b[39m, dtype\u001b[38;5;241m=\u001b[39mdtype, casting\u001b[38;5;241m=\u001b[39mcasting)\n\u001b[0;32m    369\u001b[0m \u001b[38;5;28;01melse\u001b[39;00m:\n\u001b[0;32m    370\u001b[0m     \u001b[38;5;28;01mreturn\u001b[39;00m _nx\u001b[38;5;241m.\u001b[39mconcatenate(arrs, \u001b[38;5;241m1\u001b[39m, dtype\u001b[38;5;241m=\u001b[39mdtype, casting\u001b[38;5;241m=\u001b[39mcasting)\n",
      "File \u001b[1;32m<__array_function__ internals>:200\u001b[0m, in \u001b[0;36mconcatenate\u001b[1;34m(*args, **kwargs)\u001b[0m\n",
      "\u001b[1;31mValueError\u001b[0m: all the input arrays must have same number of dimensions, but the array at index 0 has 1 dimension(s) and the array at index 1 has 2 dimension(s)"
     ]
    }
   ],
   "source": [
    "#To stack a and b horizontally\n",
    "np.hstack([a,b])"
   ]
  },
  {
   "cell_type": "code",
   "execution_count": 37,
   "id": "742168e2",
   "metadata": {},
   "outputs": [
    {
     "data": {
      "text/plain": [
       "array([1, 2, 3])"
      ]
     },
     "execution_count": 37,
     "metadata": {},
     "output_type": "execute_result"
    }
   ],
   "source": [
    "#The error for hstack occured because a and b do not have the same dimension\n",
    "#To be able to perform stacking, the arrays involved must be of the same dimension\n",
    "#For hstacking, the arrays to be stacked must have the same number of rows\n",
    "#For vstacking, the arrays to be stacked must have the same number of columns"
   ]
  },
  {
   "cell_type": "code",
   "execution_count": 38,
   "id": "bbe3a66c",
   "metadata": {},
   "outputs": [
    {
     "data": {
      "text/plain": [
       "array([[9, 6, 8],\n",
       "       [9, 1, 6]])"
      ]
     },
     "execution_count": 38,
     "metadata": {},
     "output_type": "execute_result"
    }
   ],
   "source": [
    "b"
   ]
  },
  {
   "cell_type": "code",
   "execution_count": 32,
   "id": "f3d5b604",
   "metadata": {},
   "outputs": [
    {
     "data": {
      "text/plain": [
       "array([[1, 2, 3],\n",
       "       [9, 6, 8],\n",
       "       [9, 1, 6]])"
      ]
     },
     "execution_count": 32,
     "metadata": {},
     "output_type": "execute_result"
    }
   ],
   "source": [
    "np.vstack([a,b])"
   ]
  },
  {
   "cell_type": "code",
   "execution_count": 42,
   "id": "71a12ed3",
   "metadata": {},
   "outputs": [],
   "source": [
    "#Introducing a third array c\n",
    "c=np.array([[9,0,12],[76,9,21]])"
   ]
  },
  {
   "cell_type": "code",
   "execution_count": 43,
   "id": "b06058cd",
   "metadata": {},
   "outputs": [
    {
     "data": {
      "text/plain": [
       "array([[ 9,  0, 12],\n",
       "       [76,  9, 21]])"
      ]
     },
     "execution_count": 43,
     "metadata": {},
     "output_type": "execute_result"
    }
   ],
   "source": [
    "c"
   ]
  },
  {
   "cell_type": "code",
   "execution_count": 44,
   "id": "a4695a88",
   "metadata": {},
   "outputs": [
    {
     "data": {
      "text/plain": [
       "array([[ 9,  0, 12,  9,  6,  8],\n",
       "       [76,  9, 21,  9,  1,  6]])"
      ]
     },
     "execution_count": 44,
     "metadata": {},
     "output_type": "execute_result"
    }
   ],
   "source": [
    "np.hstack([c,b])"
   ]
  },
  {
   "cell_type": "code",
   "execution_count": 46,
   "id": "43955b3f",
   "metadata": {},
   "outputs": [
    {
     "data": {
      "text/plain": [
       "array([[ 9,  6,  8,  9,  0, 12],\n",
       "       [ 9,  1,  6, 76,  9, 21]])"
      ]
     },
     "execution_count": 46,
     "metadata": {},
     "output_type": "execute_result"
    }
   ],
   "source": [
    "np.hstack([b,c])"
   ]
  },
  {
   "cell_type": "code",
   "execution_count": 47,
   "id": "e2c82aa4",
   "metadata": {},
   "outputs": [
    {
     "data": {
      "text/plain": [
       "array([[ 1,  2,  3],\n",
       "       [ 9,  6,  8],\n",
       "       [ 9,  1,  6],\n",
       "       [ 9,  0, 12],\n",
       "       [76,  9, 21]])"
      ]
     },
     "execution_count": 47,
     "metadata": {},
     "output_type": "execute_result"
    }
   ],
   "source": [
    "np.vstack([a,b,c])"
   ]
  },
  {
   "cell_type": "markdown",
   "id": "2b4e01b4",
   "metadata": {},
   "source": [
    "# MATHEMATICAL OPERATIONS IN NUMPY"
   ]
  },
  {
   "cell_type": "code",
   "execution_count": 48,
   "id": "c876a4e8",
   "metadata": {},
   "outputs": [
    {
     "data": {
      "text/plain": [
       "array([1, 2, 3])"
      ]
     },
     "execution_count": 48,
     "metadata": {},
     "output_type": "execute_result"
    }
   ],
   "source": [
    "a"
   ]
  },
  {
   "cell_type": "code",
   "execution_count": 49,
   "id": "e10fde8a",
   "metadata": {},
   "outputs": [
    {
     "data": {
      "text/plain": [
       "array([[9, 6, 8],\n",
       "       [9, 1, 6]])"
      ]
     },
     "execution_count": 49,
     "metadata": {},
     "output_type": "execute_result"
    }
   ],
   "source": [
    "b"
   ]
  },
  {
   "cell_type": "code",
   "execution_count": 50,
   "id": "34baeaaa",
   "metadata": {},
   "outputs": [
    {
     "data": {
      "text/plain": [
       "array([[ 9,  0, 12],\n",
       "       [76,  9, 21]])"
      ]
     },
     "execution_count": 50,
     "metadata": {},
     "output_type": "execute_result"
    }
   ],
   "source": [
    "c"
   ]
  },
  {
   "cell_type": "markdown",
   "id": "bce78755",
   "metadata": {},
   "source": [
    "MULTIPLICATION"
   ]
  },
  {
   "cell_type": "code",
   "execution_count": 51,
   "id": "88fe5100",
   "metadata": {},
   "outputs": [
    {
     "data": {
      "text/plain": [
       "array([[ 9, 12, 24],\n",
       "       [ 9,  2, 18]])"
      ]
     },
     "execution_count": 51,
     "metadata": {},
     "output_type": "execute_result"
    }
   ],
   "source": [
    "a*b"
   ]
  },
  {
   "cell_type": "code",
   "execution_count": 52,
   "id": "0c2cae5f",
   "metadata": {},
   "outputs": [
    {
     "data": {
      "text/plain": [
       "array([[ 81,   0,  96],\n",
       "       [684,   9, 126]])"
      ]
     },
     "execution_count": 52,
     "metadata": {},
     "output_type": "execute_result"
    }
   ],
   "source": [
    "c*b"
   ]
  },
  {
   "cell_type": "markdown",
   "id": "e1968c3a",
   "metadata": {},
   "source": [
    "SUBTRACTION"
   ]
  },
  {
   "cell_type": "code",
   "execution_count": 4,
   "id": "e1bdafd3",
   "metadata": {},
   "outputs": [],
   "source": [
    "#Introducing some new arrays\n",
    "o=np.array([2,3,4])\n",
    "w=np.array([3,4,5])"
   ]
  },
  {
   "cell_type": "markdown",
   "id": "3e418d56",
   "metadata": {},
   "source": [
    "AGGREGATE FUNCTIONS"
   ]
  },
  {
   "cell_type": "code",
   "execution_count": 5,
   "id": "cfb257eb",
   "metadata": {},
   "outputs": [],
   "source": [
    "#Aggregate functions have to do with a particular array"
   ]
  },
  {
   "cell_type": "markdown",
   "id": "a4be4f4c",
   "metadata": {},
   "source": [
    "1. Sum Aggregate Function"
   ]
  },
  {
   "cell_type": "code",
   "execution_count": 6,
   "id": "60ac01f5",
   "metadata": {},
   "outputs": [
    {
     "data": {
      "text/plain": [
       "9"
      ]
     },
     "execution_count": 6,
     "metadata": {},
     "output_type": "execute_result"
    }
   ],
   "source": [
    "o.sum()   #sums up everything in the o array"
   ]
  },
  {
   "cell_type": "code",
   "execution_count": 7,
   "id": "aeac90c4",
   "metadata": {},
   "outputs": [
    {
     "data": {
      "text/plain": [
       "12"
      ]
     },
     "execution_count": 7,
     "metadata": {},
     "output_type": "execute_result"
    }
   ],
   "source": [
    "w.sum()"
   ]
  },
  {
   "cell_type": "code",
   "execution_count": 60,
   "id": "46b57507",
   "metadata": {},
   "outputs": [
    {
     "data": {
      "text/plain": [
       "666"
      ]
     },
     "execution_count": 60,
     "metadata": {},
     "output_type": "execute_result"
    }
   ],
   "source": [
    "np.arange(1,37) .reshape(6,6).sum()"
   ]
  },
  {
   "cell_type": "code",
   "execution_count": 64,
   "id": "66babf0d",
   "metadata": {},
   "outputs": [
    {
     "data": {
      "text/plain": [
       "array([[ 1,  7, 13, 19, 25, 31],\n",
       "       [ 2,  8, 14, 20, 26, 32],\n",
       "       [ 3,  9, 15, 21, 27, 33],\n",
       "       [ 4, 10, 16, 22, 28, 34],\n",
       "       [ 5, 11, 17, 23, 29, 35],\n",
       "       [ 6, 12, 18, 24, 30, 36]])"
      ]
     },
     "execution_count": 64,
     "metadata": {},
     "output_type": "execute_result"
    }
   ],
   "source": [
    "#recalling the array below then using chaining\n",
    "np.transpose(np.arange(1,37) .reshape(6,6))"
   ]
  },
  {
   "cell_type": "code",
   "execution_count": 66,
   "id": "61536c5d",
   "metadata": {},
   "outputs": [
    {
     "data": {
      "text/plain": [
       "array([ 21,  57,  93, 129, 165, 201])"
      ]
     },
     "execution_count": 66,
     "metadata": {},
     "output_type": "execute_result"
    }
   ],
   "source": [
    "np.transpose(np.arange(1,37) .reshape(6,6)).sum(axis=0)                         #sum of axis=0 adds up all items in each column"
   ]
  },
  {
   "cell_type": "code",
   "execution_count": 67,
   "id": "2a51d705",
   "metadata": {},
   "outputs": [
    {
     "data": {
      "text/plain": [
       "array([ 96, 102, 108, 114, 120, 126])"
      ]
     },
     "execution_count": 67,
     "metadata": {},
     "output_type": "execute_result"
    }
   ],
   "source": [
    "np.transpose(np.arange(1,37) .reshape(6,6)).sum(axis=1)                         #sum of axis=1 adds up all items in each row"
   ]
  },
  {
   "cell_type": "markdown",
   "id": "b107b6ab",
   "metadata": {},
   "source": [
    "2. Min Aggregate Function"
   ]
  },
  {
   "cell_type": "code",
   "execution_count": 69,
   "id": "3303cf15",
   "metadata": {},
   "outputs": [
    {
     "data": {
      "text/plain": [
       "1"
      ]
     },
     "execution_count": 69,
     "metadata": {},
     "output_type": "execute_result"
    }
   ],
   "source": [
    "#Min returns the lowest value in the array\n",
    "np.transpose(np.arange(1,37) .reshape(6,6)) .min()"
   ]
  },
  {
   "cell_type": "code",
   "execution_count": 73,
   "id": "5ecec310",
   "metadata": {},
   "outputs": [
    {
     "data": {
      "text/plain": [
       "array([ 1,  7, 13, 19, 25, 31])"
      ]
     },
     "execution_count": 73,
     "metadata": {},
     "output_type": "execute_result"
    }
   ],
   "source": [
    "np.transpose(np.arange(1,37) .reshape(6,6)) .min(axis=0)                             #returns the lowest value in each column"
   ]
  },
  {
   "cell_type": "code",
   "execution_count": 71,
   "id": "ab4b4c2c",
   "metadata": {},
   "outputs": [
    {
     "data": {
      "text/plain": [
       "array([1, 2, 3, 4, 5, 6])"
      ]
     },
     "execution_count": 71,
     "metadata": {},
     "output_type": "execute_result"
    }
   ],
   "source": [
    "np.transpose(np.arange(1,37) .reshape(6,6)) .min(axis=1)                            #returns the lovest value in each row"
   ]
  },
  {
   "cell_type": "markdown",
   "id": "6587aa46",
   "metadata": {},
   "source": [
    "3. Max Aggregate Function"
   ]
  },
  {
   "cell_type": "code",
   "execution_count": 72,
   "id": "1d2d8f00",
   "metadata": {},
   "outputs": [
    {
     "data": {
      "text/plain": [
       "36"
      ]
     },
     "execution_count": 72,
     "metadata": {},
     "output_type": "execute_result"
    }
   ],
   "source": [
    "#Max returns the highest value in the array\n",
    "np.transpose(np.arange(1,37) .reshape(6,6)) .max()"
   ]
  },
  {
   "cell_type": "code",
   "execution_count": 74,
   "id": "06ca3d87",
   "metadata": {},
   "outputs": [
    {
     "data": {
      "text/plain": [
       "array([ 6, 12, 18, 24, 30, 36])"
      ]
     },
     "execution_count": 74,
     "metadata": {},
     "output_type": "execute_result"
    }
   ],
   "source": [
    "np.transpose(np.arange(1,37) .reshape(6,6)) .max(axis=0)                             #returns the highest value in each column"
   ]
  },
  {
   "cell_type": "code",
   "execution_count": 75,
   "id": "4409d0f9",
   "metadata": {},
   "outputs": [
    {
     "data": {
      "text/plain": [
       "array([31, 32, 33, 34, 35, 36])"
      ]
     },
     "execution_count": 75,
     "metadata": {},
     "output_type": "execute_result"
    }
   ],
   "source": [
    "np.transpose(np.arange(1,37) .reshape(6,6)) .max(axis=1)                               #returns the highest value in each row"
   ]
  },
  {
   "cell_type": "markdown",
   "id": "e92baa3b",
   "metadata": {},
   "source": [
    "4. Cummulative Sum Aggregate"
   ]
  },
  {
   "cell_type": "code",
   "execution_count": 76,
   "id": "f82328a7",
   "metadata": {},
   "outputs": [
    {
     "data": {
      "text/plain": [
       "array([[ 1,  7, 13, 19, 25, 31],\n",
       "       [ 2,  8, 14, 20, 26, 32],\n",
       "       [ 3,  9, 15, 21, 27, 33],\n",
       "       [ 4, 10, 16, 22, 28, 34],\n",
       "       [ 5, 11, 17, 23, 29, 35],\n",
       "       [ 6, 12, 18, 24, 30, 36]])"
      ]
     },
     "execution_count": 76,
     "metadata": {},
     "output_type": "execute_result"
    }
   ],
   "source": [
    "#Cummulative sum adds each element of the array and returns the result progressively\n",
    "np.transpose(np.arange(1,37) .reshape(6,6))"
   ]
  },
  {
   "cell_type": "code",
   "execution_count": 78,
   "id": "d6bf50ad",
   "metadata": {},
   "outputs": [
    {
     "data": {
      "text/plain": [
       "array([[  1,   7,  13,  19,  25,  31],\n",
       "       [  3,  15,  27,  39,  51,  63],\n",
       "       [  6,  24,  42,  60,  78,  96],\n",
       "       [ 10,  34,  58,  82, 106, 130],\n",
       "       [ 15,  45,  75, 105, 135, 165],\n",
       "       [ 21,  57,  93, 129, 165, 201]])"
      ]
     },
     "execution_count": 78,
     "metadata": {},
     "output_type": "execute_result"
    }
   ],
   "source": [
    "np.transpose(np.arange(1,37) .reshape(6,6)) .cumsum(axis=0)                #returns the cummulative sum of items in each column"
   ]
  },
  {
   "cell_type": "code",
   "execution_count": 79,
   "id": "a433f5c4",
   "metadata": {},
   "outputs": [
    {
     "data": {
      "text/plain": [
       "array([[  1,   8,  21,  40,  65,  96],\n",
       "       [  2,  10,  24,  44,  70, 102],\n",
       "       [  3,  12,  27,  48,  75, 108],\n",
       "       [  4,  14,  30,  52,  80, 114],\n",
       "       [  5,  16,  33,  56,  85, 120],\n",
       "       [  6,  18,  36,  60,  90, 126]])"
      ]
     },
     "execution_count": 79,
     "metadata": {},
     "output_type": "execute_result"
    }
   ],
   "source": [
    "np.transpose(np.arange(1,37) .reshape(6,6)) .cumsum(axis=1)              #returns the cummulative sum of items in each row"
   ]
  },
  {
   "cell_type": "markdown",
   "id": "4e8830e7",
   "metadata": {},
   "source": [
    "5. Mean Aggregate"
   ]
  },
  {
   "cell_type": "code",
   "execution_count": 81,
   "id": "bce69a8b",
   "metadata": {},
   "outputs": [
    {
     "data": {
      "text/plain": [
       "array([  3.5,  13. ,  28.5,  50. ,  77.5, 111. ])"
      ]
     },
     "execution_count": 81,
     "metadata": {},
     "output_type": "execute_result"
    }
   ],
   "source": [
    "#Mean returns the average ie sum/total no of samples\n",
    "np.transpose(np.arange(1,37) .reshape(6,6)) .cumsum(axis=1) .mean(axis=0)  "
   ]
  },
  {
   "cell_type": "code",
   "execution_count": 82,
   "id": "684204c3",
   "metadata": {},
   "outputs": [
    {
     "data": {
      "text/plain": [
       "array([38.5, 42. , 45.5, 49. , 52.5, 56. ])"
      ]
     },
     "execution_count": 82,
     "metadata": {},
     "output_type": "execute_result"
    }
   ],
   "source": [
    "np.transpose(np.arange(1,37) .reshape(6,6)) .cumsum(axis=1) .mean(axis=1)"
   ]
  },
  {
   "cell_type": "code",
   "execution_count": 83,
   "id": "48ef1039",
   "metadata": {},
   "outputs": [
    {
     "data": {
      "text/plain": [
       "47.25"
      ]
     },
     "execution_count": 83,
     "metadata": {},
     "output_type": "execute_result"
    }
   ],
   "source": [
    "np.transpose(np.arange(1,37) .reshape(6,6)) .cumsum(axis=1) .mean()"
   ]
  },
  {
   "cell_type": "markdown",
   "id": "1bb7c103",
   "metadata": {},
   "source": [
    "6. Median Aggregate"
   ]
  },
  {
   "cell_type": "code",
   "execution_count": 84,
   "id": "ec087f45",
   "metadata": {},
   "outputs": [
    {
     "data": {
      "text/plain": [
       "18.5"
      ]
     },
     "execution_count": 84,
     "metadata": {},
     "output_type": "execute_result"
    }
   ],
   "source": [
    "#Median returns the middle value/number after arranging the items in ascending or descending order\n",
    "#Here, we insert every item inside the median function\n",
    "np.median(np.transpose(np.arange(1,37)))"
   ]
  },
  {
   "cell_type": "markdown",
   "id": "74ec3e2e",
   "metadata": {},
   "source": [
    "7. Standard Deviation"
   ]
  },
  {
   "cell_type": "code",
   "execution_count": 87,
   "id": "b1ec4335",
   "metadata": {},
   "outputs": [
    {
     "data": {
      "text/plain": [
       "10.388294694831615"
      ]
     },
     "execution_count": 87,
     "metadata": {},
     "output_type": "execute_result"
    }
   ],
   "source": [
    "np.transpose(np.arange(1,37)) .std()"
   ]
  },
  {
   "cell_type": "markdown",
   "id": "aa83a44f",
   "metadata": {},
   "source": [
    "8. Sin,Cos,Tan"
   ]
  },
  {
   "cell_type": "code",
   "execution_count": 89,
   "id": "3a3d6ba1",
   "metadata": {},
   "outputs": [
    {
     "data": {
      "text/plain": [
       "array([ 0.84147098,  0.90929743,  0.14112001, -0.7568025 , -0.95892427,\n",
       "       -0.2794155 ,  0.6569866 ,  0.98935825,  0.41211849, -0.54402111,\n",
       "       -0.99999021, -0.53657292,  0.42016704,  0.99060736,  0.65028784,\n",
       "       -0.28790332, -0.96139749, -0.75098725,  0.14987721,  0.91294525,\n",
       "        0.83665564, -0.00885131, -0.8462204 , -0.90557836, -0.13235175,\n",
       "        0.76255845,  0.95637593,  0.27090579, -0.66363388, -0.98803162,\n",
       "       -0.40403765,  0.55142668,  0.99991186,  0.52908269, -0.42818267,\n",
       "       -0.99177885])"
      ]
     },
     "execution_count": 89,
     "metadata": {},
     "output_type": "execute_result"
    }
   ],
   "source": [
    "np.sin(np.transpose(np.arange(1,37)))"
   ]
  },
  {
   "cell_type": "code",
   "execution_count": 90,
   "id": "91c5dfc2",
   "metadata": {},
   "outputs": [
    {
     "data": {
      "text/plain": [
       "array([ 0.54030231, -0.41614684, -0.9899925 , -0.65364362,  0.28366219,\n",
       "        0.96017029,  0.75390225, -0.14550003, -0.91113026, -0.83907153,\n",
       "        0.0044257 ,  0.84385396,  0.90744678,  0.13673722, -0.75968791,\n",
       "       -0.95765948, -0.27516334,  0.66031671,  0.98870462,  0.40808206,\n",
       "       -0.54772926, -0.99996083, -0.53283302,  0.42417901,  0.99120281,\n",
       "        0.64691932, -0.29213881, -0.96260587, -0.74805753,  0.15425145,\n",
       "        0.91474236,  0.83422336, -0.01327675, -0.84857027, -0.90369221,\n",
       "       -0.12796369])"
      ]
     },
     "execution_count": 90,
     "metadata": {},
     "output_type": "execute_result"
    }
   ],
   "source": [
    "np.cos(np.transpose(np.arange(1,37)))"
   ]
  },
  {
   "cell_type": "code",
   "execution_count": 91,
   "id": "a027eafa",
   "metadata": {},
   "outputs": [
    {
     "data": {
      "text/plain": [
       "array([ 1.55740772e+00, -2.18503986e+00, -1.42546543e-01,  1.15782128e+00,\n",
       "       -3.38051501e+00, -2.91006191e-01,  8.71447983e-01, -6.79971146e+00,\n",
       "       -4.52315659e-01,  6.48360827e-01, -2.25950846e+02, -6.35859929e-01,\n",
       "        4.63021133e-01,  7.24460662e+00, -8.55993401e-01,  3.00632242e-01,\n",
       "        3.49391565e+00, -1.13731371e+00,  1.51589471e-01,  2.23716094e+00,\n",
       "       -1.52749853e+00,  8.85165604e-03,  1.58815308e+00, -2.13489670e+00,\n",
       "       -1.33526407e-01,  1.17875355e+00, -3.27370380e+00, -2.81429605e-01,\n",
       "        8.87142844e-01, -6.40533120e+00, -4.41695568e-01,  6.61006041e-01,\n",
       "       -7.53130148e+01, -6.23498963e-01,  4.73814720e-01,  7.75047091e+00])"
      ]
     },
     "execution_count": 91,
     "metadata": {},
     "output_type": "execute_result"
    }
   ],
   "source": [
    "np.tan(np.transpose(np.arange(1,37)))"
   ]
  },
  {
   "cell_type": "code",
   "execution_count": 92,
   "id": "010b2cc2",
   "metadata": {},
   "outputs": [],
   "source": [
    "#Most mathematical operations can be carried out in Numpy"
   ]
  },
  {
   "cell_type": "code",
   "execution_count": null,
   "id": "7a2efcf6",
   "metadata": {},
   "outputs": [],
   "source": []
  }
 ],
 "metadata": {
  "kernelspec": {
   "display_name": "Python 3 (ipykernel)",
   "language": "python",
   "name": "python3"
  },
  "language_info": {
   "codemirror_mode": {
    "name": "ipython",
    "version": 3
   },
   "file_extension": ".py",
   "mimetype": "text/x-python",
   "name": "python",
   "nbconvert_exporter": "python",
   "pygments_lexer": "ipython3",
   "version": "3.11.5"
  }
 },
 "nbformat": 4,
 "nbformat_minor": 5
}
